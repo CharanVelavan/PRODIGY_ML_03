{
 "cells": [
  {
   "cell_type": "code",
   "execution_count": null,
   "id": "initial_id",
   "metadata": {
    "collapsed": true,
    "is_executing": true,
    "ExecuteTime": {
     "start_time": "2023-11-24T09:01:11.207014900Z"
    }
   },
   "outputs": [],
   "source": [
    "import os\n",
    "import cv2\n",
    "import numpy as np\n",
    "import pandas as pd\n",
    "from sklearn.model_selection import train_test_split\n",
    "from sklearn.svm import SVC\n",
    "from sklearn.metrics import accuracy_score\n",
    "from sklearn.preprocessing import LabelEncoder\n",
    "from sklearn.model_selection import GridSearchCV\n",
    "\n",
    "# Function to load and preprocess images\n",
    "def load_images(folder):\n",
    "    images = []\n",
    "    labels = []\n",
    "    for label in os.listdir(folder):\n",
    "        label_path = os.path.join(folder, label)\n",
    "        for filename in os.listdir(label_path):\n",
    "            img_path = os.path.join(label_path, filename)\n",
    "            img = cv2.imread(img_path)\n",
    "            img = cv2.resize(img, (64, 64))  # Resize images to a common size\n",
    "            images.append(img)\n",
    "            labels.append(label)\n",
    "    return np.array(images), np.array(labels)\n",
    "\n",
    "# Load training data\n",
    "train_folder = 'train'  # Update this with the actual path\n",
    "\n",
    "X_train, y_train = load_images(train_folder)\n",
    "\n",
    "# Flatten the images for SVM\n",
    "X_train_flat = X_train.reshape(X_train.shape[0], -1)\n",
    "\n",
    "# Encode labels\n",
    "le = LabelEncoder()\n",
    "y_train_encoded = le.fit_transform(y_train)\n",
    "\n",
    "# Split the data into training and validation sets\n",
    "X_train_split, X_val_split, y_train_split, y_val_split = train_test_split(\n",
    "    X_train_flat, y_train_encoded, test_size=0.2, random_state=42\n",
    ")\n",
    "\n",
    "# Hyperparameter tuning using GridSearchCV\n",
    "param_grid = {'C': [1, 10, 100], 'gamma': [0.01, 0.1, 1], 'kernel': ['rbf']}\n",
    "grid_search = GridSearchCV(SVC(), param_grid, cv=3)\n",
    "grid_search.fit(X_train_split, y_train_split)\n",
    "\n",
    "# Get the best hyperparameters\n",
    "best_params = grid_search.best_params_\n",
    "\n",
    "# Train the final SVM model with the best hyperparameters\n",
    "svm_model = SVC(C=best_params['C'], gamma=best_params['gamma'], kernel=best_params['kernel'])\n",
    "svm_model.fit(X_train_split, y_train_split)\n",
    "\n",
    "# Make predictions on the validation set\n",
    "y_val_pred = svm_model.predict(X_val_split)\n",
    "\n",
    "# Calculate accuracy on the validation set\n",
    "accuracy = accuracy_score(y_val_split, y_val_pred)\n",
    "print(f'Validation Accuracy: {accuracy * 100:.2f}%')\n"
   ]
  },
  {
   "cell_type": "code",
   "execution_count": 14,
   "outputs": [],
   "source": [
    "# Load test data\n",
    "test_folder = 'test'  # Update this with the actual path\n",
    "X_test, y_test = load_images(test_folder)\n",
    "\n",
    "# Flatten the test images for SVM\n",
    "X_test_flat = X_test.reshape(X_test.shape[0], -1)\n",
    "\n",
    "# Make predictions on the test set\n",
    "y_test_pred = svm_model.predict(X_test_flat)\n",
    "\n",
    "# Decode labels\n",
    "y_test_pred_decoded = le.inverse_transform(y_test_pred)\n",
    "\n",
    "# Save the predictions to a CSV file\n",
    "results = pd.DataFrame({'Filename': os.listdir(os.path.join(test_folder, 'cats')) + os.listdir(os.path.join(test_folder, 'dogs')),\n",
    "                        'Prediction': y_test_pred_decoded})\n",
    "results.to_csv('svm_predictions.csv', index=False)\n",
    "\n",
    "print('Predictions saved to svm_predictions.csv')\n"
   ],
   "metadata": {
    "collapsed": false,
    "ExecuteTime": {
     "end_time": "2023-11-05T16:04:34.497126600Z",
     "start_time": "2023-11-05T16:04:34.492120800Z"
    }
   },
   "id": "d402df6024b6a6f"
  },
  {
   "cell_type": "code",
   "execution_count": 15,
   "outputs": [
    {
     "ename": "ValueError",
     "evalue": "setting an array element with a sequence. The requested array has an inhomogeneous shape after 1 dimensions. The detected shape was (4000,) + inhomogeneous part.",
     "output_type": "error",
     "traceback": [
      "\u001B[1;31m---------------------------------------------------------------------------\u001B[0m",
      "\u001B[1;31mValueError\u001B[0m                                Traceback (most recent call last)",
      "Cell \u001B[1;32mIn[15], line 44\u001B[0m\n\u001B[0;32m     41\u001B[0m test_images, test_labels \u001B[38;5;241m=\u001B[39m load_and_preprocess_test_images(test_dir)\n\u001B[0;32m     43\u001B[0m \u001B[38;5;66;03m# Combine cat and dog data\u001B[39;00m\n\u001B[1;32m---> 44\u001B[0m X \u001B[38;5;241m=\u001B[39m np\u001B[38;5;241m.\u001B[39mvstack((cat_images, dog_images))\n\u001B[0;32m     45\u001B[0m y \u001B[38;5;241m=\u001B[39m np\u001B[38;5;241m.\u001B[39mconcatenate((cat_labels, dog_labels))\n\u001B[0;32m     47\u001B[0m \u001B[38;5;66;03m# Create an SVM classifier\u001B[39;00m\n",
      "File \u001B[1;32m<__array_function__ internals>:200\u001B[0m, in \u001B[0;36mvstack\u001B[1;34m(*args, **kwargs)\u001B[0m\n",
      "File \u001B[1;32m~\\anaconda3\\Lib\\site-packages\\numpy\\core\\shape_base.py:293\u001B[0m, in \u001B[0;36mvstack\u001B[1;34m(tup, dtype, casting)\u001B[0m\n\u001B[0;32m    290\u001B[0m \u001B[38;5;28;01mif\u001B[39;00m \u001B[38;5;129;01mnot\u001B[39;00m overrides\u001B[38;5;241m.\u001B[39mARRAY_FUNCTION_ENABLED:\n\u001B[0;32m    291\u001B[0m     \u001B[38;5;66;03m# raise warning if necessary\u001B[39;00m\n\u001B[0;32m    292\u001B[0m     _arrays_for_stack_dispatcher(tup, stacklevel\u001B[38;5;241m=\u001B[39m\u001B[38;5;241m2\u001B[39m)\n\u001B[1;32m--> 293\u001B[0m arrs \u001B[38;5;241m=\u001B[39m atleast_2d(\u001B[38;5;241m*\u001B[39mtup)\n\u001B[0;32m    294\u001B[0m \u001B[38;5;28;01mif\u001B[39;00m \u001B[38;5;129;01mnot\u001B[39;00m \u001B[38;5;28misinstance\u001B[39m(arrs, \u001B[38;5;28mlist\u001B[39m):\n\u001B[0;32m    295\u001B[0m     arrs \u001B[38;5;241m=\u001B[39m [arrs]\n",
      "File \u001B[1;32m<__array_function__ internals>:200\u001B[0m, in \u001B[0;36matleast_2d\u001B[1;34m(*args, **kwargs)\u001B[0m\n",
      "File \u001B[1;32m~\\anaconda3\\Lib\\site-packages\\numpy\\core\\shape_base.py:121\u001B[0m, in \u001B[0;36matleast_2d\u001B[1;34m(*arys)\u001B[0m\n\u001B[0;32m    119\u001B[0m res \u001B[38;5;241m=\u001B[39m []\n\u001B[0;32m    120\u001B[0m \u001B[38;5;28;01mfor\u001B[39;00m ary \u001B[38;5;129;01min\u001B[39;00m arys:\n\u001B[1;32m--> 121\u001B[0m     ary \u001B[38;5;241m=\u001B[39m asanyarray(ary)\n\u001B[0;32m    122\u001B[0m     \u001B[38;5;28;01mif\u001B[39;00m ary\u001B[38;5;241m.\u001B[39mndim \u001B[38;5;241m==\u001B[39m \u001B[38;5;241m0\u001B[39m:\n\u001B[0;32m    123\u001B[0m         result \u001B[38;5;241m=\u001B[39m ary\u001B[38;5;241m.\u001B[39mreshape(\u001B[38;5;241m1\u001B[39m, \u001B[38;5;241m1\u001B[39m)\n",
      "\u001B[1;31mValueError\u001B[0m: setting an array element with a sequence. The requested array has an inhomogeneous shape after 1 dimensions. The detected shape was (4000,) + inhomogeneous part."
     ]
    }
   ],
   "source": [],
   "metadata": {
    "collapsed": false,
    "ExecuteTime": {
     "end_time": "2023-11-05T16:15:55.136540500Z",
     "start_time": "2023-11-05T16:04:35.767755500Z"
    }
   },
   "id": "1189950d112ca261"
  },
  {
   "cell_type": "code",
   "execution_count": null,
   "outputs": [],
   "source": [],
   "metadata": {
    "collapsed": false
   },
   "id": "9efbf001dffdd299"
  }
 ],
 "metadata": {
  "kernelspec": {
   "display_name": "Python 3",
   "language": "python",
   "name": "python3"
  },
  "language_info": {
   "codemirror_mode": {
    "name": "ipython",
    "version": 2
   },
   "file_extension": ".py",
   "mimetype": "text/x-python",
   "name": "python",
   "nbconvert_exporter": "python",
   "pygments_lexer": "ipython2",
   "version": "2.7.6"
  }
 },
 "nbformat": 4,
 "nbformat_minor": 5
}
